{
 "cells": [
  {
   "cell_type": "markdown",
   "metadata": {},
   "source": [
    "To start Toree with Spark, use the following command:\n",
    "\n",
    "```code\n",
    "SPARK_OPTS='--master=spark://bigdata1-vm1:7077 --executor-cores=7 --executor-memory=128g --driver-memory=128g --jars /home/amadkour/projects/knowledgecubes/target/uber-knowledgecubes-0.1.0.jar' jupyter notebook\n",
    "```"
   ]
  },
  {
   "cell_type": "code",
   "execution_count": 2,
   "metadata": {},
   "outputs": [
    {
     "data": {
      "text/plain": [
       "spark = org.apache.spark.sql.SparkSession@2bef8686\n"
      ]
     },
     "metadata": {},
     "output_type": "display_data"
    },
    {
     "data": {
      "text/html": [
       "<ul>\n",
       "<li><a href=\"Some(http://bigdata1-vm1:4040)\" target=\"new_tab\">Spark UI: app-20180508122032-0029</a></li>\n",
       "</ul>"
      ],
      "text/plain": [
       "Spark app-20180508122032-0029: Some(http://bigdata1-vm1:4040)"
      ]
     },
     "execution_count": 2,
     "metadata": {},
     "output_type": "execute_result"
    }
   ],
   "source": [
    "import org.apache.spark.sql.SparkSession\n",
    "\n",
    "import edu.purdue.knowledgecubes.GEFI.GEFIType\n",
    "import edu.purdue.knowledgecubes.GEFI.join.GEFIJoinCreator\n",
    "import edu.purdue.knowledgecubes.storage.persistent.Store\n",
    "import edu.purdue.knowledgecubes.utils.Timer\n",
    "\n",
    "val spark = SparkSession.builder\n",
    "            .appName(s\"KnowledgeCubes Store Creator\")\n",
    "            .getOrCreate()"
   ]
  },
  {
   "cell_type": "code",
   "execution_count": 3,
   "metadata": {},
   "outputs": [
    {
     "data": {
      "text/plain": [
       "localPath: String = \"\"\n",
       "dbPath: String = \"\"\n",
       "ntPath: String = \"\"\n"
      ]
     },
     "metadata": {},
     "output_type": "display_data"
    }
   ],
   "source": [
    "var localPath = \"\"\n",
    "var dbPath = \"\"\n",
    "var ntPath = \"\""
   ]
  },
  {
   "cell_type": "markdown",
   "metadata": {},
   "source": [
    "### Create Bio2RDF Store"
   ]
  },
  {
   "cell_type": "code",
   "execution_count": 2,
   "metadata": {},
   "outputs": [
    {
     "name": "stdout",
     "output_type": "stream",
     "text": [
      "Time: 2782.978 seconds\n"
     ]
    },
    {
     "data": {
      "text/plain": [
       "localPath = /home/amadkour/projects/knowledgecubes/output/bio2rdf\n",
       "dbPath = hdfs://bigdata1-vm1:8020/user/amadkour/bio2rdf-db\n",
       "ntPath = hdfs://bigdata1-vm1:8020/user/amadkour/bio2rdf/bio2rdf.nt\n",
       "spark = org.apache.spark.sql.SparkSession@7cb32592\n",
       "store = edu.purdue.knowledgecubes.storage.persistent.Store@7a3a1764\n",
       "time = 2782.978\n"
      ]
     },
     "metadata": {},
     "output_type": "display_data"
    },
    {
     "data": {
      "text/plain": [
       "2782.978"
      ]
     },
     "execution_count": 2,
     "metadata": {},
     "output_type": "execute_result"
    }
   ],
   "source": [
    "localPath = \"/home/amadkour/projects/knowledgecubes/output/bio2rdf\"\n",
    "dbPath = \"hdfs://bigdata1-vm1:8020/user/amadkour/bio2rdf-db\"\n",
    "ntPath = \"hdfs://bigdata1-vm1:8020/user/amadkour/bio2rdf/bio2rdf.nt\"\n",
    "\n",
    "val store = Store(spark, dbPath, localPath)\n",
    "val time = Timer.timeInSeconds{ store.create(ntPath) }\n",
    "println(s\"Time: $time seconds\")"
   ]
  },
  {
   "cell_type": "markdown",
   "metadata": {},
   "source": [
    "### Create YAGO Store"
   ]
  },
  {
   "cell_type": "code",
   "execution_count": 4,
   "metadata": {},
   "outputs": [
    {
     "name": "stdout",
     "output_type": "stream",
     "text": [
      "Time: 167.999 seconds\n"
     ]
    },
    {
     "data": {
      "text/plain": [
       "localPath = /home/amadkour/projects/knowledgecubes/output/yago\n",
       "dbPath = hdfs://bigdata1-vm1:8020/user/amadkour/yago-db\n",
       "ntPath = hdfs://bigdata1-vm1:8020/user/amadkour/yago/yago.nt\n",
       "store = edu.purdue.knowledgecubes.storage.persistent.Store@5ad98516\n",
       "time = 167.999\n"
      ]
     },
     "metadata": {},
     "output_type": "display_data"
    },
    {
     "data": {
      "text/plain": [
       "167.999"
      ]
     },
     "execution_count": 4,
     "metadata": {},
     "output_type": "execute_result"
    }
   ],
   "source": [
    "localPath = \"/home/amadkour/projects/knowledgecubes/output/yago\"\n",
    "dbPath = \"hdfs://bigdata1-vm1:8020/user/amadkour/yago-db\"\n",
    "ntPath = \"hdfs://bigdata1-vm1:8020/user/amadkour/yago/yago.nt\"\n",
    "\n",
    "val store = Store(spark, dbPath, localPath)\n",
    "val time = Timer.timeInSeconds{ store.create(ntPath) }\n",
    "println(s\"Time: $time seconds\")"
   ]
  },
  {
   "cell_type": "markdown",
   "metadata": {},
   "source": [
    "### Create WatDiv Store"
   ]
  },
  {
   "cell_type": "code",
   "execution_count": 5,
   "metadata": {},
   "outputs": [
    {
     "name": "stdout",
     "output_type": "stream",
     "text": [
      "Time: 275.135 seconds\n"
     ]
    },
    {
     "data": {
      "text/plain": [
       "localPath = /home/amadkour/projects/knowledgecubes/output/watdiv\n",
       "dbPath = hdfs://bigdata1-vm1:8020/user/amadkour/watdiv-db\n",
       "ntPath = hdfs://bigdata1-vm1:8020/user/amadkour/watdiv/watdiv.nt\n",
       "store = edu.purdue.knowledgecubes.storage.persistent.Store@3d9b0e80\n",
       "time = 275.135\n"
      ]
     },
     "metadata": {},
     "output_type": "display_data"
    },
    {
     "data": {
      "text/plain": [
       "275.135"
      ]
     },
     "execution_count": 5,
     "metadata": {},
     "output_type": "execute_result"
    }
   ],
   "source": [
    "localPath = \"/home/amadkour/projects/knowledgecubes/output/watdiv\"\n",
    "dbPath = \"hdfs://bigdata1-vm1:8020/user/amadkour/watdiv-db\"\n",
    "ntPath = \"hdfs://bigdata1-vm1:8020/user/amadkour/watdiv/watdiv.nt\"\n",
    "\n",
    "val store = Store(spark, dbPath, localPath)\n",
    "val time = Timer.timeInSeconds{ store.create(ntPath) }\n",
    "println(s\"Time: $time seconds\")"
   ]
  },
  {
   "cell_type": "markdown",
   "metadata": {},
   "source": [
    "### Create LUBM Store"
   ]
  },
  {
   "cell_type": "code",
   "execution_count": 6,
   "metadata": {},
   "outputs": [
    {
     "name": "stdout",
     "output_type": "stream",
     "text": [
      "Time: 212.674 seconds\n"
     ]
    },
    {
     "data": {
      "text/plain": [
       "localPath = /home/amadkour/projects/knowledgecubes/output/lubm\n",
       "dbPath = hdfs://bigdata1-vm1:8020/user/amadkour/lubm-db\n",
       "ntPath = hdfs://bigdata1-vm1:8020/user/amadkour/lubm/lubm.nt\n",
       "store = edu.purdue.knowledgecubes.storage.persistent.Store@53c895bd\n",
       "time = 212.674\n"
      ]
     },
     "metadata": {},
     "output_type": "display_data"
    },
    {
     "data": {
      "text/plain": [
       "212.674"
      ]
     },
     "execution_count": 6,
     "metadata": {},
     "output_type": "execute_result"
    }
   ],
   "source": [
    "localPath = \"/home/amadkour/projects/knowledgecubes/output/lubm\"\n",
    "dbPath = \"hdfs://bigdata1-vm1:8020/user/amadkour/lubm-db\"\n",
    "ntPath = \"hdfs://bigdata1-vm1:8020/user/amadkour/lubm/lubm.nt\"\n",
    "\n",
    "val store = Store(spark, dbPath, localPath)\n",
    "val time = Timer.timeInSeconds{ store.create(ntPath) }\n",
    "println(s\"Time: $time seconds\")"
   ]
  },
  {
   "cell_type": "code",
   "execution_count": null,
   "metadata": {},
   "outputs": [],
   "source": []
  }
 ],
 "metadata": {
  "kernelspec": {
   "display_name": "Apache Toree - Scala",
   "language": "scala",
   "name": "apache_toree_scala"
  },
  "language_info": {
   "codemirror_mode": "text/x-scala",
   "file_extension": ".scala",
   "mimetype": "text/x-scala",
   "name": "scala",
   "pygments_lexer": "scala",
   "version": "2.11.8"
  }
 },
 "nbformat": 4,
 "nbformat_minor": 2
}
