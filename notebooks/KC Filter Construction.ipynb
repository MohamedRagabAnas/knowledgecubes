{
 "cells": [
  {
   "cell_type": "markdown",
   "metadata": {},
   "source": [
    "To start Toree with Spark, use the following command:\n",
    "\n",
    "```code\n",
    "SPARK_OPTS='--master=spark://bigdata1-vm1:7077 --executor-cores=7 --executor-memory=128g --driver-memory=128g --jars /home/amadkour/projects/knowledgecubes/target/uber-knowledgecubes-0.1.0.jar' jupyter notebook\n",
    "```"
   ]
  },
  {
   "cell_type": "code",
   "execution_count": 1,
   "metadata": {},
   "outputs": [
    {
     "data": {
      "text/plain": [
       "spark = org.apache.spark.sql.SparkSession@62db963a\n"
      ]
     },
     "metadata": {},
     "output_type": "display_data"
    },
    {
     "data": {
      "text/html": [
       "<ul>\n",
       "<li><a href=\"Some(http://bigdata1-vm1:4040)\" target=\"new_tab\">Spark UI: app-20180508130313-0030</a></li>\n",
       "</ul>"
      ],
      "text/plain": [
       "Spark app-20180508130313-0030: Some(http://bigdata1-vm1:4040)"
      ]
     },
     "execution_count": 1,
     "metadata": {},
     "output_type": "execute_result"
    }
   ],
   "source": [
    "import edu.purdue.knowledgecubes.GEFI.GEFIType\n",
    "import edu.purdue.knowledgecubes.GEFI.join.GEFIJoinCreator\n",
    "import edu.purdue.knowledgecubes.utils.Timer\n",
    "\n",
    "val spark = SparkSession.builder\n",
    "            .appName(s\"KnowledgeCubes Filter Creator\")\n",
    "            .getOrCreate()"
   ]
  },
  {
   "cell_type": "code",
   "execution_count": 2,
   "metadata": {},
   "outputs": [
    {
     "data": {
      "text/plain": [
       "localPath: String = \"\"\n",
       "dbPath: String = \"\"\n"
      ]
     },
     "metadata": {},
     "output_type": "display_data"
    }
   ],
   "source": [
    "var localPath = \"\"\n",
    "var dbPath = \"\""
   ]
  },
  {
   "cell_type": "markdown",
   "metadata": {},
   "source": [
    "# BIO2RDF"
   ]
  },
  {
   "cell_type": "code",
   "execution_count": 5,
   "metadata": {},
   "outputs": [
    {
     "data": {
      "text/plain": [
       "localPath = /home/amadkour/projects/knowledgecubes/output/bio2rdf/\n",
       "dbPath = hdfs://bigdata1-vm1:8020/user/amadkour/bio2rdf-db/\n"
      ]
     },
     "metadata": {},
     "output_type": "display_data"
    },
    {
     "data": {
      "text/plain": [
       "hdfs://bigdata1-vm1:8020/user/amadkour/bio2rdf-db/"
      ]
     },
     "execution_count": 5,
     "metadata": {},
     "output_type": "execute_result"
    }
   ],
   "source": [
    "localPath = \"/home/amadkour/projects/knowledgecubes/output/bio2rdf/\"\n",
    "dbPath = \"hdfs://bigdata1-vm1:8020/user/amadkour/bio2rdf-db/\""
   ]
  },
  {
   "cell_type": "markdown",
   "metadata": {},
   "source": [
    "### Create ROARING Bitmap"
   ]
  },
  {
   "cell_type": "code",
   "execution_count": null,
   "metadata": {},
   "outputs": [],
   "source": [
    "val fp = 0\n",
    "val filterType = GEFIType.ROARING\n",
    "val filter = new GEFIJoinCreator(spark, dbPath, localPath)\n",
    "\n",
    "val time = Timer.timeInSeconds{filter.create(filterType, fp)}\n",
    "println(s\"Time: $time seconds\")\n",
    "spark.sqlContext.clearCache()"
   ]
  },
  {
   "cell_type": "markdown",
   "metadata": {},
   "source": [
    "Time: 8280 seconds"
   ]
  },
  {
   "cell_type": "markdown",
   "metadata": {},
   "source": [
    "### Create BLOOM (0.01) filter"
   ]
  },
  {
   "cell_type": "code",
   "execution_count": 6,
   "metadata": {},
   "outputs": [
    {
     "name": "stdout",
     "output_type": "stream",
     "text": [
      "Time: 8492.786 seconds\n"
     ]
    },
    {
     "data": {
      "text/plain": [
       "fp = 0.01\n",
       "filterType = BLOOM\n",
       "filter = edu.purdue.knowledgecubes.GEFI.join.GEFIJoinCreator@6dd5fbba\n",
       "time = 8492.786\n"
      ]
     },
     "metadata": {},
     "output_type": "display_data"
    },
    {
     "data": {
      "text/plain": [
       "8492.786"
      ]
     },
     "execution_count": 6,
     "metadata": {},
     "output_type": "execute_result"
    }
   ],
   "source": [
    "val fp = 0.01\n",
    "val filterType = GEFIType.BLOOM\n",
    "val filter = new GEFIJoinCreator(spark, dbPath, localPath)\n",
    "\n",
    "val time = Timer.timeInSeconds{filter.create(filterType, fp)}\n",
    "println(s\"Time: $time seconds\")\n",
    "spark.sqlContext.clearCache()"
   ]
  },
  {
   "cell_type": "markdown",
   "metadata": {},
   "source": [
    "### Create BLOOM (0.1) filter"
   ]
  },
  {
   "cell_type": "code",
   "execution_count": 5,
   "metadata": {},
   "outputs": [
    {
     "name": "stdout",
     "output_type": "stream",
     "text": [
      "Time: 8328.783 seconds\n"
     ]
    },
    {
     "data": {
      "text/plain": [
       "fp = 0.1\n",
       "filterType = BLOOM\n",
       "filter = edu.purdue.knowledgecubes.GEFI.join.GEFIJoinCreator@1b9242e8\n",
       "time = 8328.783\n"
      ]
     },
     "metadata": {},
     "output_type": "display_data"
    },
    {
     "data": {
      "text/plain": [
       "8328.783"
      ]
     },
     "execution_count": 5,
     "metadata": {},
     "output_type": "execute_result"
    }
   ],
   "source": [
    "val fp = 0.1\n",
    "val filterType = GEFIType.BLOOM\n",
    "val filter = new GEFIJoinCreator(spark, dbPath, localPath)\n",
    "\n",
    "val time = Timer.timeInSeconds{filter.create(filterType, fp)}\n",
    "println(s\"Time: $time seconds\")\n",
    "spark.sqlContext.clearCache()"
   ]
  },
  {
   "cell_type": "markdown",
   "metadata": {},
   "source": [
    "# YAGO"
   ]
  },
  {
   "cell_type": "code",
   "execution_count": 6,
   "metadata": {},
   "outputs": [
    {
     "data": {
      "text/plain": [
       "localPath = /home/amadkour/projects/knowledgecubes/output/yago/\n",
       "dbPath = hdfs://bigdata1-vm1:8020/user/amadkour/yago-db/\n"
      ]
     },
     "metadata": {},
     "output_type": "display_data"
    },
    {
     "data": {
      "text/plain": [
       "hdfs://bigdata1-vm1:8020/user/amadkour/yago-db/"
      ]
     },
     "execution_count": 6,
     "metadata": {},
     "output_type": "execute_result"
    }
   ],
   "source": [
    "localPath = \"/home/amadkour/projects/knowledgecubes/output/yago/\"\n",
    "dbPath = \"hdfs://bigdata1-vm1:8020/user/amadkour/yago-db/\""
   ]
  },
  {
   "cell_type": "markdown",
   "metadata": {},
   "source": [
    "### Create ROARING Bitmap"
   ]
  },
  {
   "cell_type": "code",
   "execution_count": 7,
   "metadata": {},
   "outputs": [
    {
     "name": "stdout",
     "output_type": "stream",
     "text": [
      "Time: 670.656 seconds\n"
     ]
    },
    {
     "data": {
      "text/plain": [
       "fp = 0\n",
       "filterType = ROARING\n",
       "filter = edu.purdue.knowledgecubes.GEFI.join.GEFIJoinCreator@32c297df\n",
       "time = 670.656\n"
      ]
     },
     "metadata": {},
     "output_type": "display_data"
    },
    {
     "data": {
      "text/plain": [
       "670.656"
      ]
     },
     "execution_count": 7,
     "metadata": {},
     "output_type": "execute_result"
    }
   ],
   "source": [
    "val fp = 0\n",
    "val filterType = GEFIType.ROARING\n",
    "val filter = new GEFIJoinCreator(spark, dbPath, localPath)\n",
    "\n",
    "val time = Timer.timeInSeconds{filter.create(filterType, fp)}\n",
    "println(s\"Time: $time seconds\")\n",
    "spark.sqlContext.clearCache()"
   ]
  },
  {
   "cell_type": "markdown",
   "metadata": {},
   "source": [
    "### Create BLOOM (0.01) filter"
   ]
  },
  {
   "cell_type": "code",
   "execution_count": 8,
   "metadata": {},
   "outputs": [
    {
     "name": "stdout",
     "output_type": "stream",
     "text": [
      "Time: 755.053 seconds\n"
     ]
    },
    {
     "data": {
      "text/plain": [
       "fp = 0.01\n",
       "filterType = BLOOM\n",
       "filter = edu.purdue.knowledgecubes.GEFI.join.GEFIJoinCreator@78c0f5b0\n",
       "time = 755.053\n"
      ]
     },
     "metadata": {},
     "output_type": "display_data"
    },
    {
     "data": {
      "text/plain": [
       "755.053"
      ]
     },
     "execution_count": 8,
     "metadata": {},
     "output_type": "execute_result"
    }
   ],
   "source": [
    "val fp = 0.01\n",
    "val filterType = GEFIType.BLOOM\n",
    "val filter = new GEFIJoinCreator(spark, dbPath, localPath)\n",
    "\n",
    "val time = Timer.timeInSeconds{filter.create(filterType, fp)}\n",
    "println(s\"Time: $time seconds\")\n",
    "spark.sqlContext.clearCache()"
   ]
  },
  {
   "cell_type": "markdown",
   "metadata": {},
   "source": [
    "### Create BLOOM (0.1) filter"
   ]
  },
  {
   "cell_type": "code",
   "execution_count": 9,
   "metadata": {},
   "outputs": [
    {
     "name": "stdout",
     "output_type": "stream",
     "text": [
      "Time: 707.507 seconds\n"
     ]
    },
    {
     "data": {
      "text/plain": [
       "fp = 0.1\n",
       "filterType = BLOOM\n",
       "filter = edu.purdue.knowledgecubes.GEFI.join.GEFIJoinCreator@7a915317\n",
       "time = 707.507\n"
      ]
     },
     "metadata": {},
     "output_type": "display_data"
    },
    {
     "data": {
      "text/plain": [
       "707.507"
      ]
     },
     "execution_count": 9,
     "metadata": {},
     "output_type": "execute_result"
    }
   ],
   "source": [
    "val fp = 0.1\n",
    "val filterType = GEFIType.BLOOM\n",
    "val filter = new GEFIJoinCreator(spark, dbPath, localPath)\n",
    "\n",
    "val time = Timer.timeInSeconds{filter.create(filterType, fp)}\n",
    "println(s\"Time: $time seconds\")\n",
    "spark.sqlContext.clearCache()"
   ]
  },
  {
   "cell_type": "markdown",
   "metadata": {},
   "source": [
    "# WatDIV"
   ]
  },
  {
   "cell_type": "code",
   "execution_count": 10,
   "metadata": {},
   "outputs": [
    {
     "data": {
      "text/plain": [
       "localPath = /home/amadkour/projects/knowledgecubes/output/watdiv/\n",
       "dbPath = hdfs://bigdata1-vm1:8020/user/amadkour/watdiv-db/\n"
      ]
     },
     "metadata": {},
     "output_type": "display_data"
    },
    {
     "data": {
      "text/plain": [
       "hdfs://bigdata1-vm1:8020/user/amadkour/watdiv-db/"
      ]
     },
     "execution_count": 10,
     "metadata": {},
     "output_type": "execute_result"
    }
   ],
   "source": [
    "localPath = \"/home/amadkour/projects/knowledgecubes/output/watdiv/\"\n",
    "dbPath = \"hdfs://bigdata1-vm1:8020/user/amadkour/watdiv-db/\""
   ]
  },
  {
   "cell_type": "markdown",
   "metadata": {},
   "source": [
    "### Create ROARING Bitmap"
   ]
  },
  {
   "cell_type": "code",
   "execution_count": 11,
   "metadata": {},
   "outputs": [
    {
     "name": "stdout",
     "output_type": "stream",
     "text": [
      "Time: 895.003 seconds\n"
     ]
    },
    {
     "data": {
      "text/plain": [
       "fp = 0\n",
       "filterType = ROARING\n",
       "filter = edu.purdue.knowledgecubes.GEFI.join.GEFIJoinCreator@1a49a492\n",
       "time = 895.003\n"
      ]
     },
     "metadata": {},
     "output_type": "display_data"
    },
    {
     "data": {
      "text/plain": [
       "895.003"
      ]
     },
     "execution_count": 11,
     "metadata": {},
     "output_type": "execute_result"
    }
   ],
   "source": [
    "val fp = 0\n",
    "val filterType = GEFIType.ROARING\n",
    "val filter = new GEFIJoinCreator(spark, dbPath, localPath)\n",
    "\n",
    "val time = Timer.timeInSeconds{filter.create(filterType, fp)}\n",
    "println(s\"Time: $time seconds\")\n",
    "spark.sqlContext.clearCache()"
   ]
  },
  {
   "cell_type": "markdown",
   "metadata": {},
   "source": [
    "### Create BLOOM (0.01) filter"
   ]
  },
  {
   "cell_type": "code",
   "execution_count": 12,
   "metadata": {},
   "outputs": [
    {
     "name": "stdout",
     "output_type": "stream",
     "text": [
      "Time: 1019.349 seconds\n"
     ]
    },
    {
     "data": {
      "text/plain": [
       "fp = 0.01\n",
       "filterType = BLOOM\n",
       "filter = edu.purdue.knowledgecubes.GEFI.join.GEFIJoinCreator@481bc85b\n",
       "time = 1019.349\n"
      ]
     },
     "metadata": {},
     "output_type": "display_data"
    },
    {
     "data": {
      "text/plain": [
       "1019.349"
      ]
     },
     "execution_count": 12,
     "metadata": {},
     "output_type": "execute_result"
    }
   ],
   "source": [
    "val fp = 0.01\n",
    "val filterType = GEFIType.BLOOM\n",
    "val filter = new GEFIJoinCreator(spark, dbPath, localPath)\n",
    "\n",
    "val time = Timer.timeInSeconds{filter.create(filterType, fp)}\n",
    "println(s\"Time: $time seconds\")\n",
    "spark.sqlContext.clearCache()"
   ]
  },
  {
   "cell_type": "markdown",
   "metadata": {},
   "source": [
    "### Create BLOOM (0.1) filter"
   ]
  },
  {
   "cell_type": "code",
   "execution_count": 13,
   "metadata": {},
   "outputs": [
    {
     "name": "stdout",
     "output_type": "stream",
     "text": [
      "Time: 932.564 seconds\n"
     ]
    },
    {
     "data": {
      "text/plain": [
       "fp = 0.1\n",
       "filterType = BLOOM\n",
       "filter = edu.purdue.knowledgecubes.GEFI.join.GEFIJoinCreator@387d03e6\n",
       "time = 932.564\n"
      ]
     },
     "metadata": {},
     "output_type": "display_data"
    },
    {
     "data": {
      "text/plain": [
       "932.564"
      ]
     },
     "execution_count": 13,
     "metadata": {},
     "output_type": "execute_result"
    }
   ],
   "source": [
    "val fp = 0.1\n",
    "val filterType = GEFIType.BLOOM\n",
    "val filter = new GEFIJoinCreator(spark, dbPath, localPath)\n",
    "\n",
    "val time = Timer.timeInSeconds{filter.create(filterType, fp)}\n",
    "println(s\"Time: $time seconds\")\n",
    "spark.sqlContext.clearCache()"
   ]
  },
  {
   "cell_type": "markdown",
   "metadata": {},
   "source": [
    "# LUBM"
   ]
  },
  {
   "cell_type": "code",
   "execution_count": 14,
   "metadata": {},
   "outputs": [
    {
     "data": {
      "text/plain": [
       "localPath = /home/amadkour/projects/knowledgecubes/output/lubm/\n",
       "dbPath = hdfs://bigdata1-vm1:8020/user/amadkour/lubm-db/\n"
      ]
     },
     "metadata": {},
     "output_type": "display_data"
    },
    {
     "data": {
      "text/plain": [
       "hdfs://bigdata1-vm1:8020/user/amadkour/lubm-db/"
      ]
     },
     "execution_count": 14,
     "metadata": {},
     "output_type": "execute_result"
    }
   ],
   "source": [
    "localPath = \"/home/amadkour/projects/knowledgecubes/output/lubm/\"\n",
    "dbPath = \"hdfs://bigdata1-vm1:8020/user/amadkour/lubm-db/\""
   ]
  },
  {
   "cell_type": "markdown",
   "metadata": {},
   "source": [
    "### Create ROARING Bitmap"
   ]
  },
  {
   "cell_type": "code",
   "execution_count": 15,
   "metadata": {},
   "outputs": [
    {
     "name": "stdout",
     "output_type": "stream",
     "text": [
      "Time: 1215.483 seconds\n"
     ]
    },
    {
     "data": {
      "text/plain": [
       "fp = 0\n",
       "filterType = ROARING\n",
       "filter = edu.purdue.knowledgecubes.GEFI.join.GEFIJoinCreator@86de086\n",
       "time = 1215.483\n"
      ]
     },
     "metadata": {},
     "output_type": "display_data"
    },
    {
     "data": {
      "text/plain": [
       "1215.483"
      ]
     },
     "execution_count": 15,
     "metadata": {},
     "output_type": "execute_result"
    }
   ],
   "source": [
    "val fp = 0\n",
    "val filterType = GEFIType.ROARING\n",
    "val filter = new GEFIJoinCreator(spark, dbPath, localPath)\n",
    "\n",
    "val time = Timer.timeInSeconds{filter.create(filterType, fp)}\n",
    "println(s\"Time: $time seconds\")\n",
    "spark.sqlContext.clearCache()"
   ]
  },
  {
   "cell_type": "markdown",
   "metadata": {},
   "source": [
    "### Create BLOOM (0.01) filter"
   ]
  },
  {
   "cell_type": "code",
   "execution_count": null,
   "metadata": {},
   "outputs": [],
   "source": [
    "val fp = 0.01\n",
    "val filterType = GEFIType.BLOOM\n",
    "val filter = new GEFIJoinCreator(spark, dbPath, localPath)\n",
    "\n",
    "val time = Timer.timeInSeconds{filter.create(filterType, fp)}\n",
    "println(s\"Time: $time seconds\")\n",
    "spark.sqlContext.clearCache()"
   ]
  },
  {
   "cell_type": "code",
   "execution_count": 4,
   "metadata": {},
   "outputs": [
    {
     "data": {
      "text/plain": [
       "1891"
      ]
     },
     "execution_count": 4,
     "metadata": {},
     "output_type": "execute_result"
    }
   ],
   "source": [
    "1891"
   ]
  },
  {
   "cell_type": "markdown",
   "metadata": {},
   "source": [
    "### Create BLOOM (0.1) filter"
   ]
  },
  {
   "cell_type": "code",
   "execution_count": null,
   "metadata": {},
   "outputs": [],
   "source": [
    "val fp = 0.1\n",
    "val filterType = GEFIType.BLOOM\n",
    "val filter = new GEFIJoinCreator(spark, dbPath, localPath)\n",
    "\n",
    "val time = Timer.timeInSeconds{filter.create(filterType, fp)}\n",
    "println(s\"Time: $time seconds\")\n",
    "spark.sqlContext.clearCache()"
   ]
  },
  {
   "cell_type": "code",
   "execution_count": 3,
   "metadata": {},
   "outputs": [
    {
     "data": {
      "text/plain": [
       "/home/amadkour/projects/knowledgecubes/output/lubm/"
      ]
     },
     "execution_count": 3,
     "metadata": {},
     "output_type": "execute_result"
    }
   ],
   "source": [
    "localPath"
   ]
  },
  {
   "cell_type": "code",
   "execution_count": null,
   "metadata": {},
   "outputs": [],
   "source": []
  }
 ],
 "metadata": {
  "kernelspec": {
   "display_name": "Apache Toree - Scala",
   "language": "scala",
   "name": "apache_toree_scala"
  },
  "language_info": {
   "codemirror_mode": "text/x-scala",
   "file_extension": ".scala",
   "mimetype": "text/x-scala",
   "name": "scala",
   "pygments_lexer": "scala",
   "version": "2.11.8"
  }
 },
 "nbformat": 4,
 "nbformat_minor": 2
}
